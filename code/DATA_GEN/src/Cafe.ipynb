{
 "cells": [
  {
   "cell_type": "code",
   "execution_count": null,
   "id": "e24d4443",
   "metadata": {},
   "outputs": [],
   "source": [
    "import json\n",
    "file_path = r\"C:\\Users\\harry\\Desktop\\Naver\\tour_spot_name_without_cultural.json\"\n",
    "with open(file_path, 'rt', encoding='UTF8') as json_file:\n",
    "    json_data = json.load(json_file)\n",
    "    print(json_data)"
   ]
  },
  {
   "cell_type": "code",
   "execution_count": null,
   "id": "2e2d59cd",
   "metadata": {},
   "outputs": [],
   "source": [
    "seoul_tour = json_data['서울']['관광지']\n",
    "seoul_festival = json_data['서울']['행사/공연/축제']\n",
    "seoul_reports = json_data['서울']['레포츠']"
   ]
  },
  {
   "cell_type": "code",
   "execution_count": null,
   "id": "6eb1bef8",
   "metadata": {},
   "outputs": [],
   "source": [
    "def data_make(seoul):\n",
    "    seoul_data = []\n",
    "    for i,s in enumerate(seoul):\n",
    "        if i == 0:\n",
    "            continue\n",
    "        else:\n",
    "            seoul_data.append(s)\n",
    "    return seoul_data"
   ]
  },
  {
   "cell_type": "code",
   "execution_count": null,
   "id": "8c28afa6",
   "metadata": {},
   "outputs": [],
   "source": [
    "seoul_tour = data_make(seoul_tour)\n",
    "seoul_festival = data_make(seoul_festival)\n",
    "seoul_reports = data_make(seoul_reports)"
   ]
  },
  {
   "cell_type": "code",
   "execution_count": null,
   "id": "962abdce",
   "metadata": {},
   "outputs": [],
   "source": [
    "def move_page(searching, page):\n",
    "    url = f\"https://search.naver.com/search.naver?where=article&ie=utf8&query={searching}&prdtype=0&t=0&st=rel&date_option=0&date_from=&date_to=&srchby=text&dup_remove=1&cafe_url=&without_cafe_url=&board=&sm=tab_pge&start={(page*10)-9}\"\n",
    "    return url"
   ]
  },
  {
   "cell_type": "code",
   "execution_count": null,
   "id": "9055b282",
   "metadata": {},
   "outputs": [],
   "source": [
    "from selenium import webdriver\n",
    "import pyautogui\n",
    "from bs4 import BeautifulSoup\n",
    "import time\n",
    "from tqdm import tqdm\n",
    "from datetime import datetime\n",
    "import random\n",
    "path = r\"C:\\Users\\harry\\Downloads\\chromedriver_win32\\chromedriver.exe\"\n",
    "browser = webdriver.Chrome(path)"
   ]
  },
  {
   "cell_type": "code",
   "execution_count": null,
   "id": "0ed1d535",
   "metadata": {},
   "outputs": [],
   "source": [
    "import re\n",
    "def get_convert_text(context):\n",
    "        context = context.replace(\"\\n\", \"\")\n",
    "        context = context.replace(\"&nbsp;\", \"\")\n",
    "        # 해쉬태그 제거(한글만)\n",
    "        context = re.sub(r\"\"\"#[ㄱ-ㅎ|ㅏ-ㅣ|가-힣 ]*\"\"\", \"\", context)\n",
    "        # 공백 2개 한개로 변경\n",
    "        context = re.sub(r\"\"\" +(?= )\"\"\", \"\", context)\n",
    "        # ULR\n",
    "        context = re.sub(r\"\"\"https?:\\/\\/(www\\.)?[-a-zA-Z0-9@:%._\\+~#=]{1,256}\\.[a-zA-Z0-9()]{1,6}\\b([-a-zA-Z0-9()@:%_\\+.~#?&//=]*)\"\"\", \"\", context)\n",
    "        # dict 형식 제거\n",
    "        context = re.sub(r\"\"\"{[^}]*}\"\"\", \" \", context)\n",
    "        # 온점 후 띄어쓰기 강제\n",
    "        # context = re.sub(r\"\"\"\\.(?=[^ ])\"\"\", \". \", context)\n",
    "        # 아래 나온 문자외 전부 제거\n",
    "        context = re.sub(r\"\"\"[^0-9a-zA-Zㄱ-ㅎ|ㅏ-ㅣ|가-힣 ().,?!]\"\"\", \"\", context)\n",
    "        return context"
   ]
  },
  {
   "cell_type": "code",
   "execution_count": null,
   "id": "c26d8419",
   "metadata": {},
   "outputs": [],
   "source": [
    "import pickle\n",
    "from contextlib import suppress\n",
    "def get_data(browser):\n",
    "    browser.switch_to.frame('cafe_main')\n",
    "    html = browser.page_source\n",
    "    #print(html)\n",
    "    soup = BeautifulSoup(html, 'html.parser')\n",
    "    r = browser.page_source\n",
    "    page_soup = BeautifulSoup(r, \"html.parser\")\n",
    "    content = page_soup.find('div', class_='ArticleContentBox') \n",
    "    #print(content)\n",
    "    contents_list = []\n",
    "    temp_dict={}\n",
    "    #temp_dict['content'] = content.find(\"div\", class_=\"article_viewer\").text.strip()\n",
    "    content = content.find(\"div\", class_=\"article_viewer\").text.strip()\n",
    "    final = get_convert_text(content)\n",
    "    #print(final)\n",
    "    #contents_list.append(temp_dict)\n",
    "    #print(contents_list)\n",
    "    return final"
   ]
  },
  {
   "cell_type": "code",
   "execution_count": null,
   "id": "47d93ab2",
   "metadata": {},
   "outputs": [],
   "source": [
    "seoul_tour_final = {}\n",
    "for s in seoul_tour:\n",
    "    seoul_tour_texts = []\n",
    "    for page in tqdm(range(1,11)):\n",
    "        url = move_page(s, page)\n",
    "        browser.get(url)\n",
    "        time.sleep(0.3)\n",
    "        article_list = browser.find_elements_by_css_selector('a.api_txt_lines.total_tit')\n",
    "        for article in article_list:\n",
    "            article.click()\n",
    "            time.sleep(0.3)\n",
    "            change_tab = browser.window_handles[-1]\n",
    "            browser.switch_to.window(change_tab)\n",
    "\n",
    "            try:\n",
    "                data = get_data(browser)\n",
    "                seoul_tour_texts.append(data)\n",
    "            except:\n",
    "                pass\n",
    "            browser.close()\n",
    "            change_tab = browser.window_handles[-1]\n",
    "            browser.switch_to.window(change_tab)\n",
    "            #print(seoul_tour_texts)\n",
    "    seoul_tour_final[s] = seoul_tour_texts\n",
    "    print(seoul_tour_final)"
   ]
  },
  {
   "cell_type": "code",
   "execution_count": null,
   "id": "489e540d",
   "metadata": {},
   "outputs": [],
   "source": [
    "temp = seoul_tour_final"
   ]
  },
  {
   "cell_type": "code",
   "execution_count": null,
   "id": "f2391c62",
   "metadata": {},
   "outputs": [],
   "source": [
    "temp_result = pd.DataFrame(dict([ (k,pd.Series(v)) for k,v in temp.items() ]))"
   ]
  },
  {
   "cell_type": "code",
   "execution_count": null,
   "id": "067b0297",
   "metadata": {},
   "outputs": [],
   "source": [
    "import numpy as np\n",
    "final = temp_result.T"
   ]
  },
  {
   "cell_type": "code",
   "execution_count": null,
   "id": "80bf5ad1",
   "metadata": {},
   "outputs": [],
   "source": [
    "final.to_csv(\"seoul_tour_naver_cafe.csv\", mode='w')"
   ]
  },
  {
   "cell_type": "code",
   "execution_count": null,
   "id": "96c7f4ca",
   "metadata": {},
   "outputs": [],
   "source": [
    "'''\n",
    "for s in seoul_festival:\n",
    "    for page in tqdm(range(1,11)):\n",
    "        url = move_page(s, page)\n",
    "        browser.get(url)\n",
    "        time.sleep(2)\n",
    "        article_list = browser.find_elements_by_css_selector('a.api_txt_lines.total_tit')\n",
    "        for article in article_list:\n",
    "            article.click()\n",
    "            time.sleep(1+random.uniform(1,2))\n",
    "            change_tab = browser.window_handles[-1]\n",
    "            browser.switch_to.window(change_tab)\n",
    "\n",
    "            try:\n",
    "                data = get_data(browser)\n",
    "            except:\n",
    "                pass\n",
    "            browser.close()\n",
    "            change_tab = browser.window_handles[-1]\n",
    "            browser.switch_to.window(change_tab)\n",
    "'''\n"
   ]
  },
  {
   "cell_type": "code",
   "execution_count": null,
   "id": "c3a60719",
   "metadata": {},
   "outputs": [],
   "source": [
    "'''\n",
    "for s in seoul_reports:\n",
    "    for page in tqdm(range(1,11)):\n",
    "        url = move_page(s, page)\n",
    "        browser.get(url)\n",
    "        time.sleep(2)\n",
    "        article_list = browser.find_elements_by_css_selector('a.api_txt_lines.total_tit')\n",
    "        for article in article_list:\n",
    "            article.click()\n",
    "            time.sleep(1+random.uniform(1,2))\n",
    "            change_tab = browser.window_handles[-1]\n",
    "            browser.switch_to.window(change_tab)\n",
    "\n",
    "            try:\n",
    "                data = get_data(browser)\n",
    "            except:\n",
    "                pass\n",
    "            browser.close()\n",
    "            change_tab = browser.window_handles[-1]\n",
    "            browser.switch_to.window(change_tab)\n",
    "'''"
   ]
  }
 ],
 "metadata": {
  "kernelspec": {
   "display_name": "Python 3",
   "language": "python",
   "name": "python3"
  },
  "language_info": {
   "codemirror_mode": {
    "name": "ipython",
    "version": 3
   },
   "file_extension": ".py",
   "mimetype": "text/x-python",
   "name": "python",
   "nbconvert_exporter": "python",
   "pygments_lexer": "ipython3",
   "version": "3.8.8"
  }
 },
 "nbformat": 4,
 "nbformat_minor": 5
}
