{
 "cells": [
  {
   "cell_type": "code",
   "execution_count": 1,
   "id": "00d4cc1f",
   "metadata": {},
   "outputs": [],
   "source": [
    "import os\n",
    "import pandas as pd\n",
    "import re\n",
    "from tqdm import tqdm"
   ]
  },
  {
   "cell_type": "code",
   "execution_count": 2,
   "id": "2cd586ea",
   "metadata": {},
   "outputs": [],
   "source": [
    "locations = os.listdir()"
   ]
  },
  {
   "cell_type": "code",
   "execution_count": null,
   "id": "1fb8803f",
   "metadata": {},
   "outputs": [],
   "source": [
    "files_and_path = {}\n",
    "for location in locations:\n",
    "    if location[0] == \".\" or location == \"preprocess.ipynb\":\n",
    "        continue\n",
    "    for theme in os.listdir(location):\n",
    "        if theme[0] == \".\":\n",
    "            continue\n",
    "        if len(theme) == 5 and theme[0] == \"ᄒ\":\n",
    "            folder = \"행사/공연/축제\"\n",
    "        else:\n",
    "            folder = theme\n",
    "        path = os.path.join(location, folder)\n",
    "        files = os.listdir(os.path.join(location, folder))\n",
    "        files_and_path[path] = files"
   ]
  },
  {
   "cell_type": "code",
   "execution_count": 9,
   "id": "0532dfb3",
   "metadata": {},
   "outputs": [],
   "source": [
    "len_threshold = 7\n",
    "def preprocess_df(df):\n",
    "    df.dropna(inplace=True)\n",
    "    try:\n",
    "        df = df[df[\"review\"].map(len) >= len_threshold] # 길이가 threshold 이상\n",
    "    except:\n",
    "        print(df)\n",
    "    return df"
   ]
  },
  {
   "cell_type": "code",
   "execution_count": 5,
   "id": "e7273ba8",
   "metadata": {},
   "outputs": [
    {
     "name": "stderr",
     "output_type": "stream",
     "text": [
      " 25%|██▌       | 13/51 [00:10<00:39,  1.04s/it]"
     ]
    },
    {
     "name": "stdout",
     "output_type": "stream",
     "text": [
      "Empty DataFrame\n",
      "Columns: [Unnamed: 0]\n",
      "Index: []\n"
     ]
    },
    {
     "name": "stderr",
     "output_type": "stream",
     "text": [
      "100%|██████████| 51/51 [01:08<00:00,  1.34s/it]"
     ]
    },
    {
     "name": "stdout",
     "output_type": "stream",
     "text": [
      "location : 653392, theme : 653392, rating : 653392, review : 653392, spot : 653392\n"
     ]
    },
    {
     "name": "stderr",
     "output_type": "stream",
     "text": [
      "\n"
     ]
    }
   ],
   "source": [
    "locations = []\n",
    "themes = []\n",
    "ratings = []\n",
    "reviews = []\n",
    "spots = []\n",
    "for path, files in tqdm(files_and_path.items()):\n",
    "    for file in files:\n",
    "        df = pd.read_csv(os.path.join(path, file))\n",
    "        df = preprocess_df(df)\n",
    "        if df.shape[0] < 3: # 전처리된 리뷰 갯수가 3개보다 적으면 버린다.\n",
    "            continue\n",
    "        location = path.split(\"/\")[0]\n",
    "        theme = \" \".join(path.split(\"/\")[1:])\n",
    "        rating = list(df[\"star\"].values)\n",
    "        review = list(df[\"review\"].values)\n",
    "        spot = file[0:-4]\n",
    "        \n",
    "        locations += [location for _ in range(len(rating))]\n",
    "        themes += [theme for _ in range(len(rating))]\n",
    "        spots += [spot for _ in range(len(rating))]\n",
    "        reviews += review\n",
    "        ratings += rating\n",
    "\n",
    "print(f\"location : {len(locations)}, theme : {len(themes)}, rating : {len(ratings)}, review : {len(reviews)}, spot : {len(spots)}\")        "
   ]
  },
  {
   "cell_type": "code",
   "execution_count": 6,
   "id": "30f86f49",
   "metadata": {},
   "outputs": [],
   "source": [
    "new_df = pd.DataFrame(zip(locations, themes, spots, ratings, reviews), columns=[\"location\", \"theme\", \"spot\", \"rating\", \"review\"])"
   ]
  },
  {
   "cell_type": "code",
   "execution_count": 7,
   "id": "1426b496",
   "metadata": {},
   "outputs": [],
   "source": [
    "new_df.to_csv(\"all_reviews.csv\")"
   ]
  },
  {
   "cell_type": "code",
   "execution_count": null,
   "id": "1832ead6",
   "metadata": {},
   "outputs": [],
   "source": []
  }
 ],
 "metadata": {
  "kernelspec": {
   "display_name": "Python 3",
   "language": "python",
   "name": "python3"
  },
  "language_info": {
   "codemirror_mode": {
    "name": "ipython",
    "version": 3
   },
   "file_extension": ".py",
   "mimetype": "text/x-python",
   "name": "python",
   "nbconvert_exporter": "python",
   "pygments_lexer": "ipython3",
   "version": "3.8.3"
  }
 },
 "nbformat": 4,
 "nbformat_minor": 5
}
